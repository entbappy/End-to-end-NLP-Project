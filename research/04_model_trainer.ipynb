{
 "cells": [
  {
   "cell_type": "code",
   "execution_count": 1,
   "metadata": {},
   "outputs": [],
   "source": [
    "import os"
   ]
  },
  {
   "cell_type": "code",
   "execution_count": 2,
   "metadata": {},
   "outputs": [
    {
     "data": {
      "text/plain": [
       "'d:\\\\Bappy\\\\PW-skills-tech\\\\End-to-end-NLP-Project\\\\research'"
      ]
     },
     "execution_count": 2,
     "metadata": {},
     "output_type": "execute_result"
    }
   ],
   "source": [
    "%pwd"
   ]
  },
  {
   "cell_type": "code",
   "execution_count": 3,
   "metadata": {},
   "outputs": [],
   "source": [
    "os.chdir(\"../\")"
   ]
  },
  {
   "cell_type": "code",
   "execution_count": 4,
   "metadata": {},
   "outputs": [
    {
     "data": {
      "text/plain": [
       "'d:\\\\Bappy\\\\PW-skills-tech\\\\End-to-end-NLP-Project'"
      ]
     },
     "execution_count": 4,
     "metadata": {},
     "output_type": "execute_result"
    }
   ],
   "source": [
    "%pwd"
   ]
  },
  {
   "cell_type": "code",
   "execution_count": 5,
   "metadata": {},
   "outputs": [],
   "source": [
    "from dataclasses import dataclass\n",
    "from pathlib import Path\n",
    "\n",
    "\n",
    "@dataclass(frozen=True)\n",
    "class ModelTrainerConfig:\n",
    "    root_dir: Path\n",
    "    data_path: Path\n",
    "    max_words: int\n",
    "    max_len: int\n",
    "    batch_size: int\n",
    "    epochs: int\n",
    "    validation_split: float"
   ]
  },
  {
   "cell_type": "code",
   "execution_count": 6,
   "metadata": {},
   "outputs": [],
   "source": [
    "from textClassification.constants import *\n",
    "from textClassification.utils.common import read_yaml, create_directories"
   ]
  },
  {
   "cell_type": "code",
   "execution_count": 7,
   "metadata": {},
   "outputs": [],
   "source": [
    "class ConfigurationManager:\n",
    "    def __init__(\n",
    "        self,\n",
    "        config_filepath = CONFIG_FILE_PATH,\n",
    "        params_filepath = PARAMS_FILE_PATH):\n",
    "\n",
    "        self.config = read_yaml(config_filepath)\n",
    "        self.params = read_yaml(params_filepath)\n",
    "\n",
    "        create_directories([self.config.artifacts_root])\n",
    "\n",
    "\n",
    "    \n",
    "    def get_model_trainer_config(self) -> ModelTrainerConfig:\n",
    "        config = self.config.model_trainer\n",
    "        params = self.params.TrainingArguments\n",
    "\n",
    "        create_directories([config.root_dir])\n",
    "\n",
    "        model_trainer_config = ModelTrainerConfig(\n",
    "            root_dir=config.root_dir,\n",
    "            data_path=config.data_path,\n",
    "            max_words = params.max_words,\n",
    "            max_len = params.max_len,\n",
    "            batch_size = params.batch_size,\n",
    "            epochs = params.epochs,\n",
    "            validation_split = params.validation_split\n",
    "            \n",
    "        )\n",
    "\n",
    "        return model_trainer_config"
   ]
  },
  {
   "cell_type": "code",
   "execution_count": 8,
   "metadata": {},
   "outputs": [],
   "source": [
    "import pandas as pd\n",
    "import pickle\n",
    "from tensorflow import keras\n",
    "from keras.preprocessing.text import Tokenizer\n",
    "from keras.utils import pad_sequences\n",
    "from keras.models import Sequential\n",
    "from keras.layers import LSTM, Dense, Embedding, SpatialDropout1D\n",
    "from keras.optimizers import RMSprop\n",
    "from sklearn.model_selection import train_test_split\n",
    "import os\n",
    "import json"
   ]
  },
  {
   "cell_type": "code",
   "execution_count": 9,
   "metadata": {},
   "outputs": [],
   "source": [
    "class ModelTrainer:\n",
    "    def __init__(self, config: ModelTrainerConfig):\n",
    "        self.config = config\n",
    "\n",
    "    \n",
    "    def train(self):\n",
    "\n",
    "        df = pd.read_csv(os.path.join(self.config.data_path,\"main_df.csv\"))\n",
    "        df.tweet=df.tweet.astype(str)\n",
    "\n",
    "        x = df['tweet']\n",
    "        y = df['label']\n",
    "\n",
    "        # Let's split the data into train and test\n",
    "        x_train,x_test,y_train,y_test = train_test_split(x,y, random_state = 42)\n",
    "\n",
    "        print(len(x_train),len(y_train))\n",
    "        print(len(x_test),len(y_test))\n",
    "\n",
    "\n",
    "        max_words = self.config.max_words\n",
    "        max_len = self.config.max_len\n",
    "\n",
    "        tokenizer = Tokenizer(num_words=max_words)\n",
    "        tokenizer.fit_on_texts(x_train)\n",
    "\n",
    "\n",
    "        sequences = tokenizer.texts_to_sequences(x_train)\n",
    "        sequences_matrix = pad_sequences(sequences,maxlen=max_len)\n",
    "        \n",
    "        #saving tokenizer\n",
    "        with open(os.path.join(self.config.root_dir,'tokenizer.pickle'), 'wb') as handle:\n",
    "            pickle.dump(tokenizer, handle, protocol=pickle.HIGHEST_PROTOCOL)\n",
    "\n",
    "\n",
    "        # Creating model architecture.\n",
    "        model = Sequential()\n",
    "        model.add(Embedding(self.config.max_words,100,input_length=self.config.max_len))\n",
    "        model.add(SpatialDropout1D(0.2))\n",
    "        model.add(LSTM(100,dropout=0.2,recurrent_dropout=0.2))\n",
    "        model.add(Dense(1,activation='sigmoid'))\n",
    "        model.summary()\n",
    "\n",
    "        model.compile(loss='binary_crossentropy',optimizer=RMSprop(),metrics=['accuracy'])\n",
    "\n",
    "        # starting model training\n",
    "        model.fit(sequences_matrix,y_train,batch_size=self.config.batch_size,epochs = self.config.epochs,validation_split=self.config.validation_split)\n",
    "\n",
    "        test_sequences = tokenizer.texts_to_sequences(x_test)\n",
    "        test_sequences_matrix = pad_sequences(test_sequences,maxlen=max_len)\n",
    "\n",
    "        # Model evaluation\n",
    "        accr = model.evaluate(test_sequences_matrix,y_test)\n",
    "\n",
    "        metrics = {\"eval\": accr}\n",
    "\n",
    "        with open(os.path.join(self.config.root_dir,'metrics.json'), \"w\") as file:\n",
    "            json.dump(metrics, file)\n",
    "\n",
    "\n",
    "        # Let's save the mdoel.\n",
    "        model.save(os.path.join(self.config.root_dir,'model.h5'))\n"
   ]
  },
  {
   "cell_type": "code",
   "execution_count": 10,
   "metadata": {},
   "outputs": [
    {
     "name": "stdout",
     "output_type": "stream",
     "text": [
      "[2023-09-15 11:05:15,240: INFO: common: yaml file: config\\config.yaml loaded successfully]\n",
      "[2023-09-15 11:05:15,240: INFO: common: yaml file: params.yaml loaded successfully]\n",
      "[2023-09-15 11:05:15,241: INFO: common: created directory at: artifacts]\n",
      "[2023-09-15 11:05:15,242: INFO: common: created directory at: artifacts/model_trainer]\n",
      "42558 42558\n",
      "14187 14187\n",
      "[2023-09-15 11:05:25,221: WARNING: lstm: Layer lstm will not use cuDNN kernels since it doesn't meet the criteria. It will use a generic GPU kernel as fallback when running on GPU.]\n",
      "Model: \"sequential\"\n",
      "_________________________________________________________________\n",
      " Layer (type)                Output Shape              Param #   \n",
      "=================================================================\n",
      " embedding (Embedding)       (None, 300, 100)          5000000   \n",
      "                                                                 \n",
      " spatial_dropout1d (SpatialD  (None, 300, 100)         0         \n",
      " ropout1D)                                                       \n",
      "                                                                 \n",
      " lstm (LSTM)                 (None, 100)               80400     \n",
      "                                                                 \n",
      " dense (Dense)               (None, 1)                 101       \n",
      "                                                                 \n",
      "=================================================================\n",
      "Total params: 5,080,501\n",
      "Trainable params: 5,080,501\n",
      "Non-trainable params: 0\n",
      "_________________________________________________________________\n",
      "266/266 [==============================] - 331s 1s/step - loss: 0.2571 - accuracy: 0.9045 - val_loss: 0.1882 - val_accuracy: 0.9370\n",
      "444/444 [==============================] - 55s 123ms/step - loss: 0.1914 - accuracy: 0.9302\n"
     ]
    }
   ],
   "source": [
    "try:\n",
    "    config = ConfigurationManager()\n",
    "    model_trainer_config = config.get_model_trainer_config()\n",
    "    model_trainer_config = ModelTrainer(config=model_trainer_config)\n",
    "    model_trainer_config.train()\n",
    "except Exception as e:\n",
    "    raise e"
   ]
  },
  {
   "cell_type": "code",
   "execution_count": null,
   "metadata": {},
   "outputs": [],
   "source": []
  }
 ],
 "metadata": {
  "kernelspec": {
   "display_name": "hates",
   "language": "python",
   "name": "python3"
  },
  "language_info": {
   "codemirror_mode": {
    "name": "ipython",
    "version": 3
   },
   "file_extension": ".py",
   "mimetype": "text/x-python",
   "name": "python",
   "nbconvert_exporter": "python",
   "pygments_lexer": "ipython3",
   "version": "3.8.17"
  },
  "orig_nbformat": 4
 },
 "nbformat": 4,
 "nbformat_minor": 2
}
